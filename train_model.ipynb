{
 "cells": [
  {
   "cell_type": "code",
   "execution_count": 1,
   "id": "7ac5549e",
   "metadata": {},
   "outputs": [],
   "source": [
    "import pandas as pd\n",
    "from sklearn.model_selection import train_test_split\n",
    "from sklearn.feature_extraction.text import TfidfVectorizer\n",
    "from sklearn.naive_bayes import MultinomialNB\n",
    "from sklearn.pipeline import Pipeline\n",
    "from sklearn.metrics import classification_report\n",
    "import joblib\n",
    "import nltk\n",
    "from nltk.corpus import stopwords"
   ]
  },
  {
   "cell_type": "code",
   "execution_count": 2,
   "id": "524bf071",
   "metadata": {},
   "outputs": [
    {
     "name": "stderr",
     "output_type": "stream",
     "text": [
      "[nltk_data] Downloading package stopwords to C:\\Users\\Kedeputian\n",
      "[nltk_data]     IPSK\\AppData\\Roaming\\nltk_data...\n",
      "[nltk_data]   Package stopwords is already up-to-date!\n"
     ]
    }
   ],
   "source": [
    "# Download stopwords bahasa Indonesia\n",
    "nltk.download('stopwords')\n",
    "stop_words = stopwords.words('indonesian')"
   ]
  },
  {
   "cell_type": "code",
   "execution_count": 3,
   "id": "97ba9fd4",
   "metadata": {},
   "outputs": [],
   "source": [
    "# Load dataset\n",
    "df = pd.read_csv('data/dataset.csv')"
   ]
  },
  {
   "cell_type": "code",
   "execution_count": 4,
   "id": "d028f34a",
   "metadata": {},
   "outputs": [],
   "source": [
    "# Ambil kolom teks dan label\n",
    "X = df['Text Tweet']\n",
    "y = df['Sentiment']"
   ]
  },
  {
   "cell_type": "code",
   "execution_count": 5,
   "id": "ede70000",
   "metadata": {},
   "outputs": [],
   "source": [
    "# Split data (80% train, 20% test)\n",
    "X_train, X_test, y_train, y_test = train_test_split(X, y, test_size=0.2, random_state=42)"
   ]
  },
  {
   "cell_type": "code",
   "execution_count": 6,
   "id": "2c972e38",
   "metadata": {},
   "outputs": [],
   "source": [
    "# Buat pipeline: TF-IDF + Naive Bayes\n",
    "model = Pipeline([\n",
    "    ('tfidf', TfidfVectorizer(stop_words=stop_words)),\n",
    "    ('clf', MultinomialNB())\n",
    "])"
   ]
  },
  {
   "cell_type": "code",
   "execution_count": 7,
   "id": "34a174be",
   "metadata": {},
   "outputs": [
    {
     "name": "stderr",
     "output_type": "stream",
     "text": [
      "C:\\Users\\Conda\\lib\\site-packages\\sklearn\\feature_extraction\\text.py:396: UserWarning: Your stop_words may be inconsistent with your preprocessing. Tokenizing the stop words generated tokens ['baiknya', 'berkali', 'kali', 'kurangnya', 'mata', 'olah', 'sekurang', 'setidak', 'tama', 'tidaknya'] not in stop_words.\n",
      "  warnings.warn(\n"
     ]
    },
    {
     "data": {
      "text/plain": [
       "Pipeline(steps=[('tfidf',\n",
       "                 TfidfVectorizer(stop_words=['ada', 'adalah', 'adanya',\n",
       "                                             'adapun', 'agak', 'agaknya',\n",
       "                                             'agar', 'akan', 'akankah', 'akhir',\n",
       "                                             'akhiri', 'akhirnya', 'aku',\n",
       "                                             'akulah', 'amat', 'amatlah',\n",
       "                                             'anda', 'andalah', 'antar',\n",
       "                                             'antara', 'antaranya', 'apa',\n",
       "                                             'apaan', 'apabila', 'apakah',\n",
       "                                             'apalagi', 'apatah', 'artinya',\n",
       "                                             'asal', 'asalkan', ...])),\n",
       "                ('clf', MultinomialNB())])"
      ]
     },
     "execution_count": 7,
     "metadata": {},
     "output_type": "execute_result"
    }
   ],
   "source": [
    "# Latih model\n",
    "model.fit(X_train, y_train)"
   ]
  },
  {
   "cell_type": "code",
   "execution_count": 8,
   "id": "ca33066e",
   "metadata": {},
   "outputs": [
    {
     "name": "stdout",
     "output_type": "stream",
     "text": [
      "Laporan Evaluasi:\n",
      "              precision    recall  f1-score   support\n",
      "\n",
      "    negative       0.76      0.69      0.72        91\n",
      "    positive       0.71      0.78      0.74        89\n",
      "\n",
      "    accuracy                           0.73       180\n",
      "   macro avg       0.74      0.73      0.73       180\n",
      "weighted avg       0.74      0.73      0.73       180\n",
      "\n"
     ]
    }
   ],
   "source": [
    "# Evaluasi performa\n",
    "y_pred = model.predict(X_test)\n",
    "print(\"Laporan Evaluasi:\")\n",
    "print(classification_report(y_test, y_pred))"
   ]
  },
  {
   "cell_type": "code",
   "execution_count": 9,
   "id": "c92e82d3",
   "metadata": {},
   "outputs": [
    {
     "name": "stdout",
     "output_type": "stream",
     "text": [
      "Model berhasil disimpan ke model/sentiment_classifier.pkl\n"
     ]
    }
   ],
   "source": [
    "# Simpan model\n",
    "joblib.dump(model, 'model/sentiment_classifier.pkl')\n",
    "print(\"Model berhasil disimpan ke model/sentiment_classifier.pkl\")"
   ]
  },
  {
   "cell_type": "code",
   "execution_count": null,
   "id": "f0e5bfa7",
   "metadata": {},
   "outputs": [],
   "source": []
  }
 ],
 "metadata": {
  "kernelspec": {
   "display_name": "Python 3 (ipykernel)",
   "language": "python",
   "name": "python3"
  },
  "language_info": {
   "codemirror_mode": {
    "name": "ipython",
    "version": 3
   },
   "file_extension": ".py",
   "mimetype": "text/x-python",
   "name": "python",
   "nbconvert_exporter": "python",
   "pygments_lexer": "ipython3",
   "version": "3.9.13"
  }
 },
 "nbformat": 4,
 "nbformat_minor": 5
}
